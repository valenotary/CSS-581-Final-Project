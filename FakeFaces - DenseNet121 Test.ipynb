{
 "cells": [
  {
   "cell_type": "code",
   "execution_count": 1,
   "metadata": {},
   "outputs": [],
   "source": [
    "# imports \n",
    "import pandas as pd # to read the csv files \n",
    "import os.path\n",
    "import pickle\n",
    "%matplotlib inline\n",
    "import matplotlib.pyplot as plt\n",
    "import matplotlib.image as mpimg\n",
    "import tensorflow as tf\n",
    "from tensorflow.keras import datasets, layers, models\n",
    "from tensorflow.keras.layers.experimental import preprocessing\n",
    "from tensorflow.keras.preprocessing.image import ImageDataGenerator"
   ]
  },
  {
   "cell_type": "code",
   "execution_count": 2,
   "metadata": {},
   "outputs": [],
   "source": [
    "# need to allow for the memory limit to be able to grow (?) https://www.tensorflow.org/guide/gpu\n",
    "gpu = tf.config.experimental.list_physical_devices('GPU')\n",
    "tf.config.experimental.set_memory_growth(gpu[0], True)"
   ]
  },
  {
   "cell_type": "code",
   "execution_count": 3,
   "metadata": {},
   "outputs": [
    {
     "name": "stdout",
     "output_type": "stream",
     "text": [
      "Found 99999 images belonging to 2 classes.\n",
      "Found 20000 images belonging to 2 classes.\n"
     ]
    }
   ],
   "source": [
    "# maybe we should use IMG instead...\n",
    "# thanks so much to Alex Kyllo for pointing this out to us!\n",
    "# https://www.tensorflow.org/api_docs/python/tf/keras/preprocessing/image/ImageDataGenerator\n",
    "rescale_datagen = ImageDataGenerator(rescale=1./255)\n",
    "train_generator = rescale_datagen.flow_from_directory('data/archive/real_vs_fake/train',\n",
    "                                                      class_mode='binary',\n",
    "                                                     batch_size=32, \n",
    "                                                     shuffle=True,\n",
    "                                                     seed=42)\n",
    "validation_generator = rescale_datagen.flow_from_directory('data/archive/real_vs_fake/valid',\n",
    "                                                      class_mode='binary',\n",
    "                                                     batch_size=32, \n",
    "                                                     shuffle=True,\n",
    "                                                     seed=42)"
   ]
  },
  {
   "cell_type": "code",
   "execution_count": 4,
   "metadata": {},
   "outputs": [],
   "source": [
    "root_logdir = os.path.join(os.curdir, 'my_logs')\n",
    "\n",
    "def get_run_logdir():\n",
    "    import time\n",
    "    run_id = time.strftime(\"run_%Y_%m_%d-%H_%M_%S\")\n",
    "    return os.path.join(root_logdir, run_id)"
   ]
  },
  {
   "cell_type": "code",
   "execution_count": 5,
   "metadata": {},
   "outputs": [],
   "source": [
    "densenet121 = tf.keras.applications.DenseNet121(include_top=True, \n",
    "                                                weights=None, \n",
    "                                                input_shape=(256,256,3),\n",
    "                                               classes=2)"
   ]
  },
  {
   "cell_type": "code",
   "execution_count": 6,
   "metadata": {},
   "outputs": [
    {
     "name": "stdout",
     "output_type": "stream",
     "text": [
      "Epoch 1/50\n",
      "3125/3125 [==============================] - ETA: 0s - loss: 0.4598 - accuracy: 0.7744WARNING:tensorflow:From C:\\Users\\valen\\anaconda3\\lib\\site-packages\\tensorflow\\python\\ops\\resource_variable_ops.py:1817: calling BaseResourceVariable.__init__ (from tensorflow.python.ops.resource_variable_ops) with constraint is deprecated and will be removed in a future version.\n",
      "Instructions for updating:\n",
      "If using Keras pass *_constraint arguments to layers.\n",
      "INFO:tensorflow:Assets written to: models/densenet121\\assets\n",
      "3125/3125 [==============================] - 999s 320ms/step - loss: 0.4598 - accuracy: 0.7744 - val_loss: 0.3892 - val_accuracy: 0.8235\n",
      "Epoch 2/50\n",
      "3125/3125 [==============================] - 794s 254ms/step - loss: 0.2080 - accuracy: 0.9150 - val_loss: 0.7187 - val_accuracy: 0.7118\n",
      "Epoch 3/50\n",
      "3125/3125 [==============================] - ETA: 0s - loss: 0.1159 - accuracy: 0.9548INFO:tensorflow:Assets written to: models/densenet121\\assets\n",
      "3125/3125 [==============================] - 826s 264ms/step - loss: 0.1159 - accuracy: 0.9548 - val_loss: 0.1899 - val_accuracy: 0.9218\n",
      "Epoch 4/50\n",
      "3125/3125 [==============================] - 770s 246ms/step - loss: 0.0739 - accuracy: 0.9719 - val_loss: 0.4583 - val_accuracy: 0.8048\n",
      "Epoch 5/50\n",
      "3125/3125 [==============================] - 769s 246ms/step - loss: 0.0500 - accuracy: 0.9819 - val_loss: 0.2582 - val_accuracy: 0.9137\n",
      "Epoch 6/50\n",
      "3125/3125 [==============================] - ETA: 0s - loss: 0.0384 - accuracy: 0.9860INFO:tensorflow:Assets written to: models/densenet121\\assets\n",
      "3125/3125 [==============================] - 861s 275ms/step - loss: 0.0384 - accuracy: 0.9860 - val_loss: 0.1713 - val_accuracy: 0.9380\n",
      "Epoch 7/50\n",
      "3125/3125 [==============================] - ETA: 0s - loss: 0.0302 - accuracy: 0.9888INFO:tensorflow:Assets written to: models/densenet121\\assets\n",
      "3125/3125 [==============================] - 856s 274ms/step - loss: 0.0302 - accuracy: 0.9888 - val_loss: 0.1370 - val_accuracy: 0.9560\n",
      "Epoch 8/50\n",
      "3125/3125 [==============================] - ETA: 0s - loss: 0.0262 - accuracy: 0.9906INFO:tensorflow:Assets written to: models/densenet121\\assets\n",
      "3125/3125 [==============================] - 861s 276ms/step - loss: 0.0262 - accuracy: 0.9906 - val_loss: 0.0723 - val_accuracy: 0.9754\n",
      "Epoch 9/50\n",
      "3125/3125 [==============================] - 827s 265ms/step - loss: 0.0221 - accuracy: 0.9918 - val_loss: 0.2501 - val_accuracy: 0.9067\n",
      "Epoch 10/50\n",
      "3125/3125 [==============================] - 825s 264ms/step - loss: 0.0195 - accuracy: 0.9930 - val_loss: 0.2241 - val_accuracy: 0.9262\n",
      "Epoch 11/50\n",
      "3125/3125 [==============================] - 830s 266ms/step - loss: 0.0176 - accuracy: 0.9934 - val_loss: 0.0859 - val_accuracy: 0.9708\n",
      "Epoch 12/50\n",
      "3125/3125 [==============================] - 821s 263ms/step - loss: 0.0155 - accuracy: 0.9945 - val_loss: 0.0737 - val_accuracy: 0.9740\n",
      "Epoch 13/50\n",
      "3125/3125 [==============================] - ETA: 0s - loss: 0.0139 - accuracy: 0.9952INFO:tensorflow:Assets written to: models/densenet121\\assets\n",
      "3125/3125 [==============================] - 856s 274ms/step - loss: 0.0139 - accuracy: 0.9952 - val_loss: 0.0655 - val_accuracy: 0.9807\n",
      "Epoch 14/50\n",
      "3125/3125 [==============================] - 825s 264ms/step - loss: 0.0142 - accuracy: 0.9950 - val_loss: 0.1148 - val_accuracy: 0.9615\n",
      "Epoch 15/50\n",
      "3125/3125 [==============================] - 826s 264ms/step - loss: 0.0108 - accuracy: 0.9959 - val_loss: 0.0804 - val_accuracy: 0.9756\n",
      "Epoch 16/50\n",
      "3125/3125 [==============================] - 827s 265ms/step - loss: 0.0109 - accuracy: 0.9963 - val_loss: 0.1914 - val_accuracy: 0.9431\n",
      "Epoch 17/50\n",
      "3125/3125 [==============================] - 826s 264ms/step - loss: 0.0105 - accuracy: 0.9964 - val_loss: 0.2463 - val_accuracy: 0.9273\n",
      "Epoch 18/50\n",
      "3125/3125 [==============================] - 826s 264ms/step - loss: 0.0094 - accuracy: 0.9967 - val_loss: 0.0696 - val_accuracy: 0.9778\n",
      "Epoch 19/50\n",
      "3125/3125 [==============================] - ETA: 0s - loss: 0.0089 - accuracy: 0.9966INFO:tensorflow:Assets written to: models/densenet121\\assets\n",
      "3125/3125 [==============================] - 861s 276ms/step - loss: 0.0089 - accuracy: 0.9966 - val_loss: 0.0554 - val_accuracy: 0.9820\n",
      "Epoch 20/50\n",
      "3125/3125 [==============================] - 830s 266ms/step - loss: 0.0089 - accuracy: 0.9968 - val_loss: 0.1068 - val_accuracy: 0.9729\n",
      "Epoch 21/50\n",
      "3125/3125 [==============================] - ETA: 0s - loss: 0.0074 - accuracy: 0.9974INFO:tensorflow:Assets written to: models/densenet121\\assets\n",
      "3125/3125 [==============================] - 863s 276ms/step - loss: 0.0074 - accuracy: 0.9974 - val_loss: 0.0373 - val_accuracy: 0.9884\n",
      "Epoch 22/50\n",
      "3125/3125 [==============================] - ETA: 0s - loss: 0.0080 - accuracy: 0.9972INFO:tensorflow:Assets written to: models/densenet121\\assets\n",
      "3125/3125 [==============================] - 865s 277ms/step - loss: 0.0080 - accuracy: 0.9972 - val_loss: 0.0292 - val_accuracy: 0.9912\n",
      "Epoch 23/50\n",
      "3125/3125 [==============================] - 834s 267ms/step - loss: 0.0067 - accuracy: 0.9976 - val_loss: 0.0371 - val_accuracy: 0.9902\n",
      "Epoch 24/50\n",
      "3125/3125 [==============================] - 833s 267ms/step - loss: 0.0078 - accuracy: 0.9973 - val_loss: 0.0780 - val_accuracy: 0.9747\n",
      "Epoch 25/50\n",
      "3125/3125 [==============================] - 833s 267ms/step - loss: 0.0067 - accuracy: 0.9977 - val_loss: 0.0726 - val_accuracy: 0.9780\n",
      "Epoch 26/50\n",
      "3125/3125 [==============================] - 834s 267ms/step - loss: 0.0053 - accuracy: 0.9982 - val_loss: 0.0475 - val_accuracy: 0.9840\n",
      "Epoch 27/50\n",
      "3125/3125 [==============================] - 834s 267ms/step - loss: 0.0063 - accuracy: 0.9979 - val_loss: 0.0441 - val_accuracy: 0.9865\n",
      "Epoch 28/50\n",
      "3125/3125 [==============================] - 833s 266ms/step - loss: 0.0052 - accuracy: 0.9981 - val_loss: 1.3049 - val_accuracy: 0.7563\n",
      "Epoch 29/50\n",
      "3125/3125 [==============================] - 833s 267ms/step - loss: 0.0057 - accuracy: 0.9981 - val_loss: 0.0585 - val_accuracy: 0.9829\n",
      "Epoch 30/50\n",
      "3125/3125 [==============================] - 833s 267ms/step - loss: 0.0054 - accuracy: 0.9981 - val_loss: 0.0323 - val_accuracy: 0.9899\n",
      "Epoch 31/50\n",
      "3125/3125 [==============================] - 834s 267ms/step - loss: 0.0054 - accuracy: 0.9981 - val_loss: 0.0350 - val_accuracy: 0.9893\n",
      "Epoch 32/50\n",
      "3125/3125 [==============================] - 833s 267ms/step - loss: 0.0048 - accuracy: 0.9983 - val_loss: 0.0308 - val_accuracy: 0.9902\n"
     ]
    }
   ],
   "source": [
    "densenet121.compile(optimizer=tf.keras.optimizers.Adam(learning_rate=0.0001),\n",
    "                   loss=tf.keras.losses.SparseCategoricalCrossentropy(),\n",
    "                   metrics=['accuracy'])\n",
    "densenet121_history = densenet121.fit(train_generator, \n",
    "                                  epochs=50, \n",
    "                                  validation_data=validation_generator, \n",
    "                                  callbacks=[\n",
    "                                      tf.keras.callbacks.ModelCheckpoint('models/densenet121', save_best_only=True),\n",
    "                                      tf.keras.callbacks.EarlyStopping(patience=10,restore_best_weights=True),\n",
    "                                      tf.keras.callbacks.TensorBoard(get_run_logdir())\n",
    "                                  ])"
   ]
  },
  {
   "cell_type": "code",
   "execution_count": 7,
   "metadata": {},
   "outputs": [
    {
     "name": "stdout",
     "output_type": "stream",
     "text": [
      "Found 20000 images belonging to 2 classes.\n"
     ]
    }
   ],
   "source": [
    "test_generator = rescale_datagen.flow_from_directory('data/archive/real_vs_fake/test',\n",
    "                                                      class_mode='binary',\n",
    "                                                     batch_size=32, \n",
    "                                                     shuffle=True,\n",
    "                                                     seed=42)"
   ]
  },
  {
   "cell_type": "code",
   "execution_count": 8,
   "metadata": {},
   "outputs": [
    {
     "name": "stdout",
     "output_type": "stream",
     "text": [
      "625/625 [==============================] - 146s 234ms/step - loss: 0.0335 - accuracy: 0.9895\n"
     ]
    },
    {
     "data": {
      "text/plain": [
       "[0.03354091942310333, 0.9894999861717224]"
      ]
     },
     "execution_count": 8,
     "metadata": {},
     "output_type": "execute_result"
    }
   ],
   "source": [
    "densenet121.evaluate(test_generator, batch_size=32)"
   ]
  },
  {
   "cell_type": "code",
   "execution_count": null,
   "metadata": {},
   "outputs": [],
   "source": []
  }
 ],
 "metadata": {
  "kernelspec": {
   "display_name": "Python 3",
   "language": "python",
   "name": "python3"
  },
  "language_info": {
   "codemirror_mode": {
    "name": "ipython",
    "version": 3
   },
   "file_extension": ".py",
   "mimetype": "text/x-python",
   "name": "python",
   "nbconvert_exporter": "python",
   "pygments_lexer": "ipython3",
   "version": "3.7.7"
  },
  "latex_envs": {
   "LaTeX_envs_menu_present": true,
   "autoclose": false,
   "autocomplete": true,
   "bibliofile": "biblio.bib",
   "cite_by": "apalike",
   "current_citInitial": 1,
   "eqLabelWithNumbers": true,
   "eqNumInitial": 1,
   "hotkeys": {
    "equation": "Ctrl-E",
    "itemize": "Ctrl-I"
   },
   "labels_anchors": false,
   "latex_user_defs": false,
   "report_style_numbering": false,
   "user_envs_cfg": false
  }
 },
 "nbformat": 4,
 "nbformat_minor": 4
}
