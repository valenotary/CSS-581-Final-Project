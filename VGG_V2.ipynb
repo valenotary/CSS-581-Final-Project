{
 "cells": [
  {
   "cell_type": "code",
   "execution_count": 1,
   "metadata": {},
   "outputs": [],
   "source": [
    "# imports \n",
    "import pandas as pd # to read the csv files \n",
    "import os.path\n",
    "import pickle\n",
    "%matplotlib inline\n",
    "import matplotlib.pyplot as plt\n",
    "import matplotlib.image as mpimg\n",
    "import tensorflow as tf\n",
    "from tensorflow.keras import datasets, layers, models\n",
    "from tensorflow.keras.layers.experimental import preprocessing\n",
    "from tensorflow.keras.preprocessing.image import ImageDataGenerator"
   ]
  },
  {
   "cell_type": "code",
   "execution_count": 2,
   "metadata": {},
   "outputs": [],
   "source": [
    "# need to allow for the memory limit to be able to grow (?) https://www.tensorflow.org/guide/gpu\n",
    "gpu = tf.config.experimental.list_physical_devices('GPU')\n",
    "tf.config.experimental.set_memory_growth(gpu[0], True)"
   ]
  },
  {
   "cell_type": "code",
   "execution_count": 3,
   "metadata": {},
   "outputs": [
    {
     "name": "stdout",
     "output_type": "stream",
     "text": [
      "Found 99999 images belonging to 2 classes.\n",
      "Found 20000 images belonging to 2 classes.\n"
     ]
    }
   ],
   "source": [
    "# maybe we should use IMG instead...\n",
    "# thanks so much to Alex Kyllo for pointing this out to us!\n",
    "# https://www.tensorflow.org/api_docs/python/tf/keras/preprocessing/image/ImageDataGenerator\n",
    "rescale_datagen = ImageDataGenerator(rescale=1./255)\n",
    "train_generator = rescale_datagen.flow_from_directory('data/archive/real_vs_fake/train',\n",
    "                                                      class_mode='binary',\n",
    "                                                     batch_size=32, \n",
    "                                                     shuffle=True,\n",
    "                                                     seed=42)\n",
    "validation_generator = rescale_datagen.flow_from_directory('data/archive/real_vs_fake/valid',\n",
    "                                                      class_mode='binary',\n",
    "                                                     batch_size=32, \n",
    "                                                     shuffle=True,\n",
    "                                                     seed=42)"
   ]
  },
  {
   "cell_type": "code",
   "execution_count": 4,
   "metadata": {},
   "outputs": [],
   "source": [
    "# this time around, we'll play around with the BN layer order, as well as using 'selu' as our activation function, which requires \n",
    "# LeCun initialization \n",
    "vgg_v2 = models.Sequential()\n",
    "vgg_v2.add(layers.InputLayer(input_shape=(256, 256, 3)))\n",
    "for i in range(2):\n",
    "    vgg_v2.add(layers.BatchNormalization())\n",
    "    vgg_v2.add(layers.Activation('selu'))\n",
    "    vgg_v2.add(layers.Conv2D(64, (3, 3), kernel_initializer='lecun_normal', use_bias=False))\n",
    "vgg_v2.add(layers.MaxPooling2D((2, 2)))\n",
    "for i in range(2):\n",
    "    vgg_v2.add(layers.BatchNormalization())\n",
    "    vgg_v2.add(layers.Activation('selu'))\n",
    "    vgg_v2.add(layers.Conv2D(128, (3, 3), kernel_initializer='lecun_normal', use_bias=False))\n",
    "vgg_v2.add(layers.MaxPooling2D((2, 2)))\n",
    "for i in range(3):\n",
    "    vgg_v2.add(layers.BatchNormalization())\n",
    "    vgg_v2.add(layers.Activation('selu'))\n",
    "    vgg_v2.add(layers.Conv2D(256, (3, 3), kernel_initializer='lecun_normal', use_bias=False))\n",
    "vgg_v2.add(layers.MaxPooling2D((2, 2)))\n",
    "for i in range(3):\n",
    "    vgg_v2.add(layers.BatchNormalization())\n",
    "    vgg_v2.add(layers.Activation('selu'))\n",
    "    vgg_v2.add(layers.Conv2D(512, (3, 3), kernel_initializer='lecun_normal', use_bias=False))\n",
    "vgg_v2.add(layers.MaxPooling2D((2, 2)))\n",
    "vgg_v2.add(layers.Flatten())\n",
    "for i in range(2):\n",
    "    vgg_v2.add(layers.BatchNormalization())\n",
    "    vgg_v2.add(layers.Activation('selu'))\n",
    "    vgg_v2.add(layers.Dense(4086, kernel_initializer='lecun_normal', use_bias=False))\n",
    "vgg_v2.add(layers.BatchNormalization())\n",
    "vgg_v2.add(layers.Dense(2, activation='softmax'))"
   ]
  },
  {
   "cell_type": "code",
   "execution_count": 5,
   "metadata": {},
   "outputs": [],
   "source": [
    "root_logdir = os.path.join(os.curdir, 'my_logs')\n",
    "\n",
    "def get_run_logdir():\n",
    "    import time\n",
    "    run_id = time.strftime(\"run_%Y_%m_%d-%H_%M_%S\")\n",
    "    return os.path.join(root_logdir, run_id)"
   ]
  },
  {
   "cell_type": "code",
   "execution_count": 6,
   "metadata": {},
   "outputs": [
    {
     "name": "stdout",
     "output_type": "stream",
     "text": [
      "Epoch 1/50\n",
      "3125/3125 [==============================] - ETA: 0s - loss: 0.3024 - accuracy: 0.8777WARNING:tensorflow:From C:\\Users\\valen\\anaconda3\\lib\\site-packages\\tensorflow\\python\\ops\\resource_variable_ops.py:1817: calling BaseResourceVariable.__init__ (from tensorflow.python.ops.resource_variable_ops) with constraint is deprecated and will be removed in a future version.\n",
      "Instructions for updating:\n",
      "If using Keras pass *_constraint arguments to layers.\n",
      "INFO:tensorflow:Assets written to: models/vgg_v2\\assets\n",
      "3125/3125 [==============================] - 971s 311ms/step - loss: 0.3024 - accuracy: 0.8777 - val_loss: 0.1782 - val_accuracy: 0.9300\n",
      "Epoch 2/50\n",
      "3125/3125 [==============================] - ETA: 0s - loss: 0.0872 - accuracy: 0.9685INFO:tensorflow:Assets written to: models/vgg_v2\\assets\n",
      "3125/3125 [==============================] - 965s 309ms/step - loss: 0.0872 - accuracy: 0.9685 - val_loss: 0.0642 - val_accuracy: 0.9769\n",
      "Epoch 3/50\n",
      "3125/3125 [==============================] - 956s 306ms/step - loss: 0.0585 - accuracy: 0.9792 - val_loss: 0.0652 - val_accuracy: 0.9786\n",
      "Epoch 4/50\n",
      "3125/3125 [==============================] - ETA: 0s - loss: 0.0460 - accuracy: 0.9837INFO:tensorflow:Assets written to: models/vgg_v2\\assets\n",
      "3125/3125 [==============================] - 964s 308ms/step - loss: 0.0460 - accuracy: 0.9837 - val_loss: 0.0389 - val_accuracy: 0.9869\n",
      "Epoch 5/50\n",
      "3125/3125 [==============================] - 999s 320ms/step - loss: 0.0371 - accuracy: 0.9868 - val_loss: 0.0641 - val_accuracy: 0.9785\n",
      "Epoch 6/50\n",
      "3125/3125 [==============================] - 945s 302ms/step - loss: 0.0306 - accuracy: 0.9891 - val_loss: 0.0417 - val_accuracy: 0.9871\n",
      "Epoch 7/50\n",
      "3125/3125 [==============================] - ETA: 0s - loss: 0.0274 - accuracy: 0.9903INFO:tensorflow:Assets written to: models/vgg_v2\\assets\n",
      "3125/3125 [==============================] - 955s 306ms/step - loss: 0.0274 - accuracy: 0.9903 - val_loss: 0.0246 - val_accuracy: 0.9905\n",
      "Epoch 8/50\n",
      "3125/3125 [==============================] - 947s 303ms/step - loss: 0.0237 - accuracy: 0.9917 - val_loss: 0.0301 - val_accuracy: 0.9886\n",
      "Epoch 9/50\n",
      "3125/3125 [==============================] - 947s 303ms/step - loss: 0.0218 - accuracy: 0.9924 - val_loss: 0.0551 - val_accuracy: 0.9843\n",
      "Epoch 10/50\n",
      "3125/3125 [==============================] - ETA: 0s - loss: 0.0201 - accuracy: 0.9931INFO:tensorflow:Assets written to: models/vgg_v2\\assets\n",
      "3125/3125 [==============================] - 954s 305ms/step - loss: 0.0201 - accuracy: 0.9931 - val_loss: 0.0219 - val_accuracy: 0.9923\n",
      "Epoch 11/50\n",
      "3125/3125 [==============================] - ETA: 0s - loss: 0.0181 - accuracy: 0.9939INFO:tensorflow:Assets written to: models/vgg_v2\\assets\n",
      "3125/3125 [==============================] - 953s 305ms/step - loss: 0.0181 - accuracy: 0.9939 - val_loss: 0.0165 - val_accuracy: 0.9941\n",
      "Epoch 12/50\n",
      "3125/3125 [==============================] - 945s 302ms/step - loss: 0.0148 - accuracy: 0.9948 - val_loss: 0.0339 - val_accuracy: 0.9887\n",
      "Epoch 13/50\n",
      "3125/3125 [==============================] - 953s 305ms/step - loss: 0.0158 - accuracy: 0.9946 - val_loss: 0.0300 - val_accuracy: 0.9894\n",
      "Epoch 14/50\n",
      "3125/3125 [==============================] - 946s 303ms/step - loss: 0.0129 - accuracy: 0.9955 - val_loss: 0.0175 - val_accuracy: 0.9940\n",
      "Epoch 15/50\n",
      "3125/3125 [==============================] - 950s 304ms/step - loss: 0.0132 - accuracy: 0.9953 - val_loss: 0.0207 - val_accuracy: 0.9939\n",
      "Epoch 16/50\n",
      "3125/3125 [==============================] - ETA: 0s - loss: 0.0118 - accuracy: 0.9960INFO:tensorflow:Assets written to: models/vgg_v2\\assets\n",
      "3125/3125 [==============================] - 979s 313ms/step - loss: 0.0118 - accuracy: 0.9960 - val_loss: 0.0147 - val_accuracy: 0.9952\n",
      "Epoch 17/50\n",
      "3125/3125 [==============================] - 1023s 327ms/step - loss: 0.0109 - accuracy: 0.9963 - val_loss: 0.0153 - val_accuracy: 0.9951\n",
      "Epoch 18/50\n",
      "3125/3125 [==============================] - 1099s 352ms/step - loss: 0.0103 - accuracy: 0.9965 - val_loss: 0.0173 - val_accuracy: 0.9944\n",
      "Epoch 19/50\n",
      "3125/3125 [==============================] - 1161s 371ms/step - loss: 0.0105 - accuracy: 0.9965 - val_loss: 0.0147 - val_accuracy: 0.9952\n",
      "Epoch 20/50\n",
      "3125/3125 [==============================] - 1227s 392ms/step - loss: 0.0079 - accuracy: 0.9973 - val_loss: 0.0163 - val_accuracy: 0.9953\n",
      "Epoch 21/50\n",
      "3125/3125 [==============================] - 1073s 344ms/step - loss: 0.0086 - accuracy: 0.9972 - val_loss: 0.0154 - val_accuracy: 0.9945\n",
      "Epoch 22/50\n",
      "3125/3125 [==============================] - ETA: 0s - loss: 0.0076 - accuracy: 0.9976INFO:tensorflow:Assets written to: models/vgg_v2\\assets\n",
      "3125/3125 [==============================] - 1292s 414ms/step - loss: 0.0076 - accuracy: 0.9976 - val_loss: 0.0130 - val_accuracy: 0.9956\n",
      "Epoch 23/50\n",
      "3125/3125 [==============================] - 1237s 396ms/step - loss: 0.0078 - accuracy: 0.9975 - val_loss: 0.0166 - val_accuracy: 0.9961\n",
      "Epoch 24/50\n",
      "3125/3125 [==============================] - ETA: 0s - loss: 0.0079 - accuracy: 0.9974INFO:tensorflow:Assets written to: models/vgg_v2\\assets\n",
      "3125/3125 [==============================] - 1096s 351ms/step - loss: 0.0079 - accuracy: 0.9974 - val_loss: 0.0113 - val_accuracy: 0.9962\n",
      "Epoch 25/50\n",
      "3125/3125 [==============================] - 1629s 521ms/step - loss: 0.0074 - accuracy: 0.9975 - val_loss: 0.0126 - val_accuracy: 0.9954\n",
      "Epoch 26/50\n",
      "3125/3125 [==============================] - 1046s 335ms/step - loss: 0.0065 - accuracy: 0.9978 - val_loss: 0.0150 - val_accuracy: 0.9954\n",
      "Epoch 27/50\n",
      "3125/3125 [==============================] - 1061s 340ms/step - loss: 0.0064 - accuracy: 0.9979 - val_loss: 0.0120 - val_accuracy: 0.9962\n",
      "Epoch 28/50\n",
      "3125/3125 [==============================] - 1036s 331ms/step - loss: 0.0058 - accuracy: 0.9980 - val_loss: 0.0157 - val_accuracy: 0.9955\n",
      "Epoch 29/50\n",
      "3125/3125 [==============================] - 1219s 390ms/step - loss: 0.0056 - accuracy: 0.9982 - val_loss: 0.0138 - val_accuracy: 0.9963\n",
      "Epoch 30/50\n",
      "3125/3125 [==============================] - 1365s 437ms/step - loss: 0.0063 - accuracy: 0.9980 - val_loss: 0.0147 - val_accuracy: 0.9953\n",
      "Epoch 31/50\n",
      "3125/3125 [==============================] - ETA: 0s - loss: 0.0060 - accuracy: 0.9980INFO:tensorflow:Assets written to: models/vgg_v2\\assets\n",
      "3125/3125 [==============================] - 1534s 491ms/step - loss: 0.0060 - accuracy: 0.9980 - val_loss: 0.0096 - val_accuracy: 0.9973\n",
      "Epoch 32/50\n",
      "3125/3125 [==============================] - 1664s 532ms/step - loss: 0.0054 - accuracy: 0.9982 - val_loss: 0.0103 - val_accuracy: 0.9967\n",
      "Epoch 33/50\n",
      "3125/3125 [==============================] - ETA: 0s - loss: 0.0045 - accuracy: 0.9984INFO:tensorflow:Assets written to: models/vgg_v2\\assets\n",
      "3125/3125 [==============================] - 1456s 466ms/step - loss: 0.0045 - accuracy: 0.9984 - val_loss: 0.0093 - val_accuracy: 0.9972\n",
      "Epoch 34/50\n",
      "3125/3125 [==============================] - 1423s 455ms/step - loss: 0.0044 - accuracy: 0.9984 - val_loss: 0.0179 - val_accuracy: 0.9947\n",
      "Epoch 35/50\n",
      "3125/3125 [==============================] - 1527s 489ms/step - loss: 0.0048 - accuracy: 0.9983 - val_loss: 0.0121 - val_accuracy: 0.9964\n",
      "Epoch 36/50\n",
      "3125/3125 [==============================] - 1491s 477ms/step - loss: 0.0045 - accuracy: 0.9985 - val_loss: 0.0171 - val_accuracy: 0.9949\n",
      "Epoch 37/50\n",
      "3125/3125 [==============================] - 1488s 476ms/step - loss: 0.0040 - accuracy: 0.9986 - val_loss: 0.0103 - val_accuracy: 0.9969\n",
      "Epoch 38/50\n",
      "3125/3125 [==============================] - 1617s 517ms/step - loss: 0.0040 - accuracy: 0.9987 - val_loss: 0.0101 - val_accuracy: 0.9966\n",
      "Epoch 39/50\n",
      "3125/3125 [==============================] - 1705s 545ms/step - loss: 0.0038 - accuracy: 0.9987 - val_loss: 0.0099 - val_accuracy: 0.9969\n",
      "Epoch 40/50\n",
      "3125/3125 [==============================] - 1482s 474ms/step - loss: 0.0036 - accuracy: 0.9987 - val_loss: 0.0125 - val_accuracy: 0.9964\n",
      "Epoch 41/50\n",
      "3125/3125 [==============================] - 1436s 460ms/step - loss: 0.0038 - accuracy: 0.9987 - val_loss: 0.0096 - val_accuracy: 0.9973\n",
      "Epoch 42/50\n",
      "3125/3125 [==============================] - ETA: 0s - loss: 0.0035 - accuracy: 0.9988INFO:tensorflow:Assets written to: models/vgg_v2\\assets\n"
     ]
    },
    {
     "name": "stdout",
     "output_type": "stream",
     "text": [
      "3125/3125 [==============================] - 1377s 441ms/step - loss: 0.0035 - accuracy: 0.9988 - val_loss: 0.0087 - val_accuracy: 0.9970\n",
      "Epoch 43/50\n",
      "3125/3125 [==============================] - 1168s 374ms/step - loss: 0.0033 - accuracy: 0.9989 - val_loss: 0.0110 - val_accuracy: 0.9966\n",
      "Epoch 44/50\n",
      "3125/3125 [==============================] - 937s 300ms/step - loss: 0.0034 - accuracy: 0.9988 - val_loss: 0.0107 - val_accuracy: 0.9972\n",
      "Epoch 45/50\n",
      "3125/3125 [==============================] - 937s 300ms/step - loss: 0.0037 - accuracy: 0.9987 - val_loss: 0.0101 - val_accuracy: 0.9965\n",
      "Epoch 46/50\n",
      "3125/3125 [==============================] - 937s 300ms/step - loss: 0.0026 - accuracy: 0.9990 - val_loss: 0.0127 - val_accuracy: 0.9966\n",
      "Epoch 47/50\n",
      "3125/3125 [==============================] - 936s 300ms/step - loss: 0.0034 - accuracy: 0.9988 - val_loss: 0.0112 - val_accuracy: 0.9965\n",
      "Epoch 48/50\n",
      "3125/3125 [==============================] - ETA: 0s - loss: 0.0031 - accuracy: 0.9990INFO:tensorflow:Assets written to: models/vgg_v2\\assets\n",
      "3125/3125 [==============================] - 945s 302ms/step - loss: 0.0031 - accuracy: 0.9990 - val_loss: 0.0071 - val_accuracy: 0.9973\n",
      "Epoch 49/50\n",
      "3125/3125 [==============================] - 937s 300ms/step - loss: 0.0031 - accuracy: 0.9990 - val_loss: 0.0127 - val_accuracy: 0.9967\n",
      "Epoch 50/50\n",
      "3125/3125 [==============================] - 937s 300ms/step - loss: 0.0032 - accuracy: 0.9990 - val_loss: 0.0113 - val_accuracy: 0.9968\n"
     ]
    }
   ],
   "source": [
    "vgg_v2.compile(optimizer=tf.keras.optimizers.Adam(learning_rate=0.0001),\n",
    "                 loss=tf.keras.losses.SparseCategoricalCrossentropy(),\n",
    "                 metrics=['accuracy'])\n",
    "vgg_v2_history = vgg_v2.fit(train_generator, \n",
    "                                  epochs=50, \n",
    "                                  validation_data=validation_generator, \n",
    "                                  callbacks=[\n",
    "                                      tf.keras.callbacks.ModelCheckpoint('models/vgg_v2', save_best_only=True),\n",
    "                                      tf.keras.callbacks.EarlyStopping(patience=10,restore_best_weights=True),\n",
    "                                      tf.keras.callbacks.TensorBoard(get_run_logdir())\n",
    "                                  ])"
   ]
  },
  {
   "cell_type": "code",
   "execution_count": 7,
   "metadata": {},
   "outputs": [
    {
     "name": "stdout",
     "output_type": "stream",
     "text": [
      "Found 20000 images belonging to 2 classes.\n"
     ]
    }
   ],
   "source": [
    "test_generator = rescale_datagen.flow_from_directory('data/archive/real_vs_fake/test',\n",
    "                                                      class_mode='binary',\n",
    "                                                     batch_size=32, \n",
    "                                                     shuffle=True,\n",
    "                                                     seed=42)"
   ]
  },
  {
   "cell_type": "code",
   "execution_count": 8,
   "metadata": {},
   "outputs": [
    {
     "name": "stdout",
     "output_type": "stream",
     "text": [
      "625/625 [==============================] - 114s 183ms/step - loss: 0.0097 - accuracy: 0.9977\n"
     ]
    },
    {
     "data": {
      "text/plain": [
       "[0.009659171104431152, 0.9976500272750854]"
      ]
     },
     "execution_count": 8,
     "metadata": {},
     "output_type": "execute_result"
    }
   ],
   "source": [
    "vgg_v2.evaluate(test_generator, batch_size=32)"
   ]
  },
  {
   "cell_type": "code",
   "execution_count": null,
   "metadata": {},
   "outputs": [],
   "source": []
  }
 ],
 "metadata": {
  "kernelspec": {
   "display_name": "Python 3",
   "language": "python",
   "name": "python3"
  },
  "language_info": {
   "codemirror_mode": {
    "name": "ipython",
    "version": 3
   },
   "file_extension": ".py",
   "mimetype": "text/x-python",
   "name": "python",
   "nbconvert_exporter": "python",
   "pygments_lexer": "ipython3",
   "version": "3.7.7"
  },
  "latex_envs": {
   "LaTeX_envs_menu_present": true,
   "autoclose": false,
   "autocomplete": true,
   "bibliofile": "biblio.bib",
   "cite_by": "apalike",
   "current_citInitial": 1,
   "eqLabelWithNumbers": true,
   "eqNumInitial": 1,
   "hotkeys": {
    "equation": "Ctrl-E",
    "itemize": "Ctrl-I"
   },
   "labels_anchors": false,
   "latex_user_defs": false,
   "report_style_numbering": false,
   "user_envs_cfg": false
  }
 },
 "nbformat": 4,
 "nbformat_minor": 4
}
